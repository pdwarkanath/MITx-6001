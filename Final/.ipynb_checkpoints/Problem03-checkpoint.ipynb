{
 "cells": [
  {
   "cell_type": "markdown",
   "metadata": {},
   "source": [
    "# Problem 3\n",
    "\n",
    "Numbers in Mandarin follow 3 simple rules.\n",
    "\n",
    "* There are words for each of the digits from 0 to 10.\n",
    "* For numbers 11-19, the number is pronounced as \"ten digit\", so for example, 16 would be pronounced (using Mandarin) as \"ten six\".\n",
    "* For numbers between 20 and 99, the number is pronounced as “digit ten digit”, so for example, 37 would be pronounced (using Mandarin) as \"three ten seven\". If the digit is a zero, it is not included.\n",
    "\n",
    "Here is a simple Python dictionary that captures the numbers between 0 and 10.\n",
    "\n",
    "```\n",
    "trans = {'0':'ling', '1':'yi', '2':'er', '3':'san', '4': 'si',\n",
    "          '5':'wu', '6':'liu', '7':'qi', '8':'ba', '9':'jiu', '10': 'shi'}\n",
    "```\n",
    "\n",
    "We want to write a procedure that converts an American number (between 0 and 99), written as a string, into the equivalent Mandarin.\n",
    "\n",
    "```\n",
    "def convert_to_mandarin(us_num):\n",
    "    '''\n",
    "    us_num, a string representing a US number 0 to 99\n",
    "    returns the string mandarin representation of us_num\n",
    "    '''\n",
    "    # FILL IN YOUR CODE HERE\n",
    "```\n",
    "\n",
    "Example Usage\n",
    "\n",
    "* ```convert_to_mandarin('36')``` will return ```san shi liu```\n",
    "* ```convert_to_mandarin('20')``` will return ```er shi```\n",
    "* ```convert_to_mandarin('16')``` will return ```shi liu```\n",
    "\n",
    "Paste your entire function, including the definition, in the box below. Assume that we provide trans for you. Do not leave any debugging print statements."
   ]
  },
  {
   "cell_type": "code",
   "execution_count": 1,
   "metadata": {},
   "outputs": [],
   "source": [
    "trans = {'0':'ling', '1':'yi', '2':'er', '3':'san', '4': 'si', '5':'wu', '6':'liu', '7':'qi', '8':'ba', '9':'jiu', '10': 'shi'}"
   ]
  },
  {
   "cell_type": "code",
   "execution_count": 2,
   "metadata": {},
   "outputs": [],
   "source": [
    "def convert_to_mandarin(us_num):\n",
    "    '''\n",
    "    us_num, a string representing a US number 0 to 99\n",
    "    returns the string mandarin representation of us_num\n",
    "    '''\n",
    "    x  = int(us_num)\n",
    "    if str(x) in trans:\n",
    "        return trans[str(x)]\n",
    "    elif us_num[1] == '0':\n",
    "        return trans[us_num[0]] + ' shi'\n",
    "    elif us_num[0] == '1':\n",
    "        return 'shi ' + trans[us_num[1]]\n",
    "    else:\n",
    "        return trans[us_num[0]] + ' shi ' + trans[us_num[1]]    "
   ]
  },
  {
   "cell_type": "code",
   "execution_count": 3,
   "metadata": {},
   "outputs": [
    {
     "data": {
      "text/plain": [
       "'san shi liu'"
      ]
     },
     "execution_count": 3,
     "metadata": {},
     "output_type": "execute_result"
    }
   ],
   "source": [
    "convert_to_mandarin('36')"
   ]
  }
 ],
 "metadata": {
  "kernelspec": {
   "display_name": "Python 3",
   "language": "python",
   "name": "python3"
  },
  "language_info": {
   "codemirror_mode": {
    "name": "ipython",
    "version": 3
   },
   "file_extension": ".py",
   "mimetype": "text/x-python",
   "name": "python",
   "nbconvert_exporter": "python",
   "pygments_lexer": "ipython3",
   "version": "3.6.5"
  }
 },
 "nbformat": 4,
 "nbformat_minor": 2
}
