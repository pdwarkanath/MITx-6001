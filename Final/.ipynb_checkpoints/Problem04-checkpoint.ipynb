{
 "cells": [
  {
   "cell_type": "markdown",
   "metadata": {},
   "source": [
    "# Problem 4\n",
    "\n",
    "You are given the following definitions:\n",
    "\n",
    "* A run of monotonically increasing numbers means that a number at position ```k+1``` in the sequence is greater than or equal to the number at position ```k``` in the sequence.\n",
    "* A run of monotonically decreasing numbers means that a number at position ```k+1``` in the sequence is less than or equal to the number at position ```k``` in the sequence.\n",
    "\n",
    "Implement a function that meets the specifications below.\n",
    "\n",
    "```\n",
    "def longest_run(L):\n",
    "    \"\"\"\n",
    "    Assumes L is a list of integers containing at least 2 elements.\n",
    "    Finds the longest run of numbers in L, where the longest run can\n",
    "    either be monotonically increasing or monotonically decreasing. \n",
    "    In case of a tie for the longest run, choose the longest run \n",
    "    that occurs first.\n",
    "    Does not modify the list.\n",
    "    Returns the sum of the longest run. \n",
    "    \"\"\"\n",
    "    # Your code here\n",
    "\n",
    "```\n",
    "For example:\n",
    "\n",
    "* If ```L = [10, 4, 3, 8, 3, 4, 5, 7, 7, 2]``` then the longest run of monotonically increasing numbers in ```L``` is ```[3, 4, 5, 7, 7]``` and the longest run of monotonically decreasing numbers in ```L``` is ```[10, 4, 3]```. Your function should return the value ```26``` because the longest run of monotonically increasing integers is longer than the longest run of monotonically decreasing numbers.\n",
    "* If ```L = [5, 4, 10]``` then the longest run of monotonically increasing numbers in ```L``` is ```[4, 10]``` and the longest run of monotonically decreasing numbers in ```L``` is ```[5, 4]```. Your function should return the value ```9``` because the longest run of monotonically decreasing integers occurs before the longest run of monotonically increasing numbers.\n",
    "\n",
    "Paste your entire function, including the definition, in the box below. Do not leave any debugging print statements."
   ]
  },
  {
   "cell_type": "code",
   "execution_count": 1,
   "metadata": {},
   "outputs": [],
   "source": [
    "def longest_run(L):\n",
    "    \"\"\"\n",
    "    Assumes L is a list of integers containing at least 2 elements.\n",
    "    Finds the longest run of numbers in L, where the longest run can\n",
    "    either be monotonically increasing or monotonically decreasing. \n",
    "    In case of a tie for the longest run, choose the longest run \n",
    "    that occurs first.\n",
    "    Does not modify the list.\n",
    "    Returns the sum of the longest run. \n",
    "    \"\"\"\n",
    "    # Your code here\n",
    "    \n",
    "    inc_len = 0\n",
    "    dec_len = 0\n",
    "    max_len = 0\n",
    "\n",
    "    \n",
    "    for i in range(len(L)-1):\n",
    "        if L[i+1] >= L[i]:\n",
    "            inc_len += 1\n",
    "            if inc_len > max_len:\n",
    "                max_len = inc_len\n",
    "                end_pos = i+1\n",
    "        else:\n",
    "            inc_len = 0\n",
    "\n",
    "        if L[i+1] <= L[i]:\n",
    "            dec_len += 1\n",
    "            if dec_len > max_len:\n",
    "                max_len = dec_len\n",
    "                end_pos = i+1     \n",
    "        else:\n",
    "            dec_len = 0\n",
    "        \n",
    "    return sum(L[end_pos-max_len:end_pos+1])"
   ]
  },
  {
   "cell_type": "code",
   "execution_count": 90,
   "metadata": {},
   "outputs": [],
   "source": [
    "L = [10, 4, 3, 8, 3, 4, 5, 7, 7, 2]"
   ]
  },
  {
   "cell_type": "code",
   "execution_count": 91,
   "metadata": {},
   "outputs": [
    {
     "data": {
      "text/plain": [
       "26"
      ]
     },
     "execution_count": 91,
     "metadata": {},
     "output_type": "execute_result"
    }
   ],
   "source": [
    "longest_run(L)"
   ]
  },
  {
   "cell_type": "code",
   "execution_count": null,
   "metadata": {},
   "outputs": [],
   "source": []
  }
 ],
 "metadata": {
  "kernelspec": {
   "display_name": "Python 3",
   "language": "python",
   "name": "python3"
  },
  "language_info": {
   "codemirror_mode": {
    "name": "ipython",
    "version": 3
   },
   "file_extension": ".py",
   "mimetype": "text/x-python",
   "name": "python",
   "nbconvert_exporter": "python",
   "pygments_lexer": "ipython3",
   "version": "3.6.5"
  }
 },
 "nbformat": 4,
 "nbformat_minor": 2
}
