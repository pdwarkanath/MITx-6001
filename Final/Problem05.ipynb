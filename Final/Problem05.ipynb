{
 "cells": [
  {
   "cell_type": "markdown",
   "metadata": {},
   "source": [
    "# Problem 5\n",
    "\n",
    "In this problem, you will implement a class according to the specifications in the template file usresident.py. The file contains a Person class similar to what you have seen in lecture and a USResident class (a subclass of Person). Person is already implemented for you and you will have to implement two methods of USResident.\n",
    "\n",
    "For example, the following code:\n",
    "\n",
    "```\n",
    "a = USResident('Tim Beaver', 'citizen')\n",
    "print(a.getStatus())\n",
    "b = USResident('Tim Horton', 'non-resident')\n",
    "```\n",
    "\n",
    "will print out:\n",
    "\n",
    "```\n",
    "citizen\n",
    "## will show that a ValueError was raised at a particular line\n",
    "```"
   ]
  },
  {
   "cell_type": "code",
   "execution_count": 1,
   "metadata": {},
   "outputs": [],
   "source": [
    "## DO NOT MODIFY THE IMPLEMENTATION OF THE Person CLASS ##\n",
    "class Person(object):\n",
    "    def __init__(self, name):\n",
    "        #create a person with name name\n",
    "        self.name = name\n",
    "        try:\n",
    "            firstBlank = name.rindex(' ')\n",
    "            self.lastName = name[firstBlank+1:]\n",
    "        except:\n",
    "            self.lastName = name\n",
    "        self.age = None\n",
    "    def getLastName(self):\n",
    "        #return self's last name\n",
    "        return self.lastName\n",
    "    def setAge(self, age):\n",
    "        #assumes age is an int greater than 0\n",
    "        #sets self's age to age (in years)\n",
    "        self.age = age\n",
    "    def getAge(self):\n",
    "        #assumes that self's age has been set\n",
    "        #returns self's current age in years\n",
    "        if self.age == None:\n",
    "            raise ValueError\n",
    "        return self.age\n",
    "    def __lt__(self, other):\n",
    "        #return True if self's name is lexicographically less\n",
    "        #than other's name, and False otherwise\n",
    "        if self.lastName == other.lastName:\n",
    "            return self.name < other.name\n",
    "        return self.lastName < other.lastName\n",
    "    def __str__(self):\n",
    "        #return self's name\n",
    "        return self.name"
   ]
  },
  {
   "cell_type": "code",
   "execution_count": 3,
   "metadata": {},
   "outputs": [],
   "source": [
    "class USResident(Person):\n",
    "    \"\"\" \n",
    "    A Person who resides in the US.\n",
    "    \"\"\"\n",
    "    def __init__(self, name, status):\n",
    "        \"\"\" \n",
    "        Initializes a Person object. A USResident object inherits \n",
    "        from Person and has one additional attribute:\n",
    "        status: a string, one of \"citizen\", \"legal_resident\", \"illegal_resident\"\n",
    "        Raises a ValueError if status is not one of those 3 strings\n",
    "        \"\"\"\n",
    "        # Write your code here\n",
    "        Person.__init__(self, name)\n",
    "        \n",
    "        if status in [\"citizen\", \"legal_resident\", \"illegal_resident\"]:\n",
    "            self.status = status\n",
    "        else:\n",
    "            raise ValueError \n",
    "        \n",
    "    def getStatus(self):\n",
    "        \"\"\"\n",
    "        Returns the status\n",
    "        \"\"\"\n",
    "        # Write your code here\n",
    "        return self.status"
   ]
  }
 ],
 "metadata": {
  "kernelspec": {
   "display_name": "Python 3",
   "language": "python",
   "name": "python3"
  },
  "language_info": {
   "codemirror_mode": {
    "name": "ipython",
    "version": 3
   },
   "file_extension": ".py",
   "mimetype": "text/x-python",
   "name": "python",
   "nbconvert_exporter": "python",
   "pygments_lexer": "ipython3",
   "version": "3.6.5"
  }
 },
 "nbformat": 4,
 "nbformat_minor": 2
}
