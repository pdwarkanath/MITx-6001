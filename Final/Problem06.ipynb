{
 "cells": [
  {
   "cell_type": "markdown",
   "metadata": {},
   "source": [
    "# Problem 6\n",
    "\n",
    "This question has 3 parts\n",
    "\n",
    "Consider the following hierarchy of classes:\n",
    "\n",
    "```\n",
    "class Person(object):     \n",
    "    def __init__(self, name):         \n",
    "        self.name = name     \n",
    "    def say(self, stuff):         \n",
    "        return self.name + ' says: ' + stuff     \n",
    "    def __str__(self):         \n",
    "        return self.name  \n",
    "\n",
    "class Lecturer(Person):     \n",
    "    def lecture(self, stuff):         \n",
    "        return 'I believe that ' + Person.say(self, stuff)  \n",
    "\n",
    "class Professor(Lecturer): \n",
    "    def say(self, stuff): \n",
    "        return self.name + ' says: ' + self.lecture(stuff)\n",
    "\n",
    "class ArrogantProfessor(Professor): \n",
    "    def say(self, stuff): \n",
    "        return 'It is obvious that ' + self.say(stuff)\n",
    "        \n",
    "```\n",
    "\n",
    "As written, this code leads to an infinite loop when using the Arrogant Professor class."
   ]
  },
  {
   "cell_type": "markdown",
   "metadata": {},
   "source": [
    "## Problem 6-1\n",
    "\n",
    "Change the definition of ArrogantProfessor so that the following behavior is achieved:\n",
    "\n",
    "```\n",
    "e = Person('eric') \n",
    "le = Lecturer('eric') \n",
    "pe = Professor('eric') \n",
    "ae = ArrogantProfessor('eric')\n",
    "\n",
    ">>> e.say('the sky is blue')\n",
    "eric says: the sky is blue\n",
    "\n",
    ">>> le.say('the sky is blue')\n",
    "eric says: the sky is blue\n",
    "\n",
    ">>> le.lecture('the sky is blue')\n",
    "I believe that eric says: the sky is blue\n",
    "\n",
    ">>> pe.say('the sky is blue')\n",
    "eric says: I believe that eric says: the sky is blue\n",
    "\n",
    ">>> pe.lecture('the sky is blue')\n",
    "I believe that eric says: the sky is blue\n",
    "\n",
    ">>> ae.say('the sky is blue')\n",
    "eric says: It is obvious that eric says: the sky is blue\n",
    "\n",
    ">>> ae.lecture('the sky is blue')\n",
    "It is obvious that eric says: the sky is blue\n",
    "```\n",
    "\n",
    "Paste ONLY your ArrogantProfessor class in the box below. Do not leave any debugging print statements."
   ]
  },
  {
   "cell_type": "code",
   "execution_count": 1,
   "metadata": {},
   "outputs": [],
   "source": [
    "class Person(object):     \n",
    "    def __init__(self, name):         \n",
    "        self.name = name     \n",
    "    def say(self, stuff):         \n",
    "        return self.name + ' says: ' + stuff     \n",
    "    def __str__(self):         \n",
    "        return self.name  \n",
    "\n",
    "class Lecturer(Person):     \n",
    "    def lecture(self, stuff):         \n",
    "        return 'I believe that ' + Person.say(self, stuff)  \n",
    "\n",
    "class Professor(Lecturer): \n",
    "    def say(self, stuff): \n",
    "        return self.name + ' says: ' + self.lecture(stuff)\n",
    "\n",
    "class ArrogantProfessor(Professor):\n",
    "    def lecture(self, stuff):\n",
    "        return 'It is obvious that ' + Person.say(self, stuff)\n",
    "    def say(self, stuff): \n",
    "        return Professor.say(self, stuff)"
   ]
  },
  {
   "cell_type": "code",
   "execution_count": 2,
   "metadata": {},
   "outputs": [],
   "source": [
    "e = Person('eric') \n",
    "le = Lecturer('eric') \n",
    "pe = Professor('eric') \n",
    "ae = ArrogantProfessor('eric')"
   ]
  },
  {
   "cell_type": "code",
   "execution_count": 3,
   "metadata": {},
   "outputs": [
    {
     "data": {
      "text/plain": [
       "True"
      ]
     },
     "execution_count": 3,
     "metadata": {},
     "output_type": "execute_result"
    }
   ],
   "source": [
    "ae.say('the sky is blue')=='eric says: It is obvious that eric says: the sky is blue'"
   ]
  },
  {
   "cell_type": "code",
   "execution_count": 4,
   "metadata": {},
   "outputs": [
    {
     "data": {
      "text/plain": [
       "True"
      ]
     },
     "execution_count": 4,
     "metadata": {},
     "output_type": "execute_result"
    }
   ],
   "source": [
    "ae.lecture('the sky is blue')== 'It is obvious that eric says: the sky is blue'"
   ]
  },
  {
   "cell_type": "markdown",
   "metadata": {},
   "source": [
    "## Problem 6-2\n",
    "\n",
    "You change your mind, and now want the behavior as described in Part 1, except that you want:\n",
    "\n",
    "```\n",
    ">>> ae.say('the sky is blue')\n",
    "eric says: It is obvious that I believe that eric says: the sky is blue\n",
    "\n",
    ">>> ae.lecture('the sky is blue')\n",
    "It is obvious that I believe that eric says: the sky is blue\n",
    "Change the definition of ArrogantProfessor so that the behavior described above is achieved.\n",
    "```\n",
    "\n",
    "Paste ONLY your ArrogantProfessor class in the box below. Do not leave any debugging print statements."
   ]
  },
  {
   "cell_type": "code",
   "execution_count": 139,
   "metadata": {},
   "outputs": [],
   "source": [
    "class ArrogantProfessor(Professor):\n",
    "    def lecture(self, stuff):\n",
    "        return 'It is obvious that ' + Lecturer.lecture(self, stuff)\n",
    "    def say(self, stuff): \n",
    "        return Professor.say(self, stuff)"
   ]
  },
  {
   "cell_type": "code",
   "execution_count": 140,
   "metadata": {},
   "outputs": [],
   "source": [
    "e = Person('eric') \n",
    "le = Lecturer('eric') \n",
    "pe = Professor('eric') \n",
    "ae = ArrogantProfessor('eric')"
   ]
  },
  {
   "cell_type": "code",
   "execution_count": 141,
   "metadata": {},
   "outputs": [
    {
     "data": {
      "text/plain": [
       "True"
      ]
     },
     "execution_count": 141,
     "metadata": {},
     "output_type": "execute_result"
    }
   ],
   "source": [
    "ae.say('the sky is blue')=='eric says: It is obvious that I believe that eric says: the sky is blue'"
   ]
  },
  {
   "cell_type": "code",
   "execution_count": 142,
   "metadata": {},
   "outputs": [
    {
     "data": {
      "text/plain": [
       "True"
      ]
     },
     "execution_count": 142,
     "metadata": {},
     "output_type": "execute_result"
    }
   ],
   "source": [
    "ae.lecture('the sky is blue')=='It is obvious that I believe that eric says: the sky is blue'"
   ]
  },
  {
   "cell_type": "markdown",
   "metadata": {},
   "source": [
    "## Problem 6-3\n",
    "\n",
    "You change your mind once more. You want to keep the behavior from Part 2, but now you would like:\n",
    "\n",
    "```\n",
    ">>> pe.say('the sky is blue')\n",
    "Prof. eric says: I believe that eric says: the sky is blue \n",
    "\n",
    ">>> ae.say('the sky is blue')\n",
    "Prof. eric says: It is obvious that I believe that eric says: the sky is blue \n",
    "Change the Professor class definition in order to achieve this. You may have to modify your implmentation for a previous part to get this to work.\n",
    "```\n",
    "\n",
    "Paste ONLY the Professor class in the box below. Do not leave any debugging print statements."
   ]
  },
  {
   "cell_type": "code",
   "execution_count": 144,
   "metadata": {},
   "outputs": [],
   "source": [
    "class Professor(Lecturer): \n",
    "    def say(self, stuff): \n",
    "        return 'Prof. ' + self.name + ' says: ' + self.lecture(stuff)"
   ]
  },
  {
   "cell_type": "code",
   "execution_count": 145,
   "metadata": {},
   "outputs": [],
   "source": [
    "e = Person('eric') \n",
    "le = Lecturer('eric') \n",
    "pe = Professor('eric') \n",
    "ae = ArrogantProfessor('eric')"
   ]
  },
  {
   "cell_type": "code",
   "execution_count": 146,
   "metadata": {},
   "outputs": [
    {
     "data": {
      "text/plain": [
       "True"
      ]
     },
     "execution_count": 146,
     "metadata": {},
     "output_type": "execute_result"
    }
   ],
   "source": [
    "pe.say('the sky is blue')=='Prof. eric says: I believe that eric says: the sky is blue'"
   ]
  },
  {
   "cell_type": "code",
   "execution_count": 147,
   "metadata": {},
   "outputs": [
    {
     "data": {
      "text/plain": [
       "True"
      ]
     },
     "execution_count": 147,
     "metadata": {},
     "output_type": "execute_result"
    }
   ],
   "source": [
    "ae.say('the sky is blue')=='Prof. eric says: It is obvious that I believe that eric says: the sky is blue'"
   ]
  },
  {
   "cell_type": "code",
   "execution_count": null,
   "metadata": {},
   "outputs": [],
   "source": []
  }
 ],
 "metadata": {
  "kernelspec": {
   "display_name": "Python 3",
   "language": "python",
   "name": "python3"
  },
  "language_info": {
   "codemirror_mode": {
    "name": "ipython",
    "version": 3
   },
   "file_extension": ".py",
   "mimetype": "text/x-python",
   "name": "python",
   "nbconvert_exporter": "python",
   "pygments_lexer": "ipython3",
   "version": "3.6.5"
  }
 },
 "nbformat": 4,
 "nbformat_minor": 2
}
