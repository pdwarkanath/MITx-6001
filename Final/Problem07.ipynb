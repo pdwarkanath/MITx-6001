{
 "cells": [
  {
   "cell_type": "markdown",
   "metadata": {},
   "source": [
    "# Problem 7\n",
    "\n",
    "Write a function called general_poly, that meets the specifications below.\n",
    "\n",
    "For example, general_poly([1, 2, 3, 4])(10) should evaluate to 1234 because \n",
    "\n",
    "So in the example the function only takes one argument with general_poly([1, 2, 3, 4]) and it returns a function that you can apply to a value, in this case x = 10 with general_poly([1, 2, 3, 4])(10).\n",
    "\n",
    "```\n",
    "def general_poly (L):\n",
    "    \"\"\" L, a list of numbers (n0, n1, n2, ... nk)\n",
    "    Returns a function, which when applied to a value x, returns the value \n",
    "    n0 * x^k + n1 * x^(k-1) + ... nk * x^0 \"\"\"\n",
    "    #YOUR CODE HERE \n",
    "```"
   ]
  },
  {
   "cell_type": "code",
   "execution_count": 16,
   "metadata": {},
   "outputs": [],
   "source": [
    "def general_poly(L):\n",
    "    \"\"\" L, a list of numbers (n0, n1, n2, ... nk)\n",
    "    Returns a function, which when applied to a value x, returns the value \n",
    "    n0 * x^k + n1 * x^(k-1) + ... nk * x^0 \"\"\"\n",
    "    #YOUR CODE HERE\n",
    "    n = len(L)\n",
    "    def fn(x):\n",
    "        result = 0\n",
    "        for r, a in enumerate(L):\n",
    "            result += a*x**(n-r-1)\n",
    "        return result\n",
    "    return fn"
   ]
  },
  {
   "cell_type": "code",
   "execution_count": 17,
   "metadata": {},
   "outputs": [],
   "source": [
    "L = [1, 2, 3, 4]\n",
    "x = 10"
   ]
  },
  {
   "cell_type": "code",
   "execution_count": 18,
   "metadata": {},
   "outputs": [
    {
     "data": {
      "text/plain": [
       "1234"
      ]
     },
     "execution_count": 18,
     "metadata": {},
     "output_type": "execute_result"
    }
   ],
   "source": [
    "general_poly(L)(x)"
   ]
  }
 ],
 "metadata": {
  "kernelspec": {
   "display_name": "Python 3",
   "language": "python",
   "name": "python3"
  },
  "language_info": {
   "codemirror_mode": {
    "name": "ipython",
    "version": 3
   },
   "file_extension": ".py",
   "mimetype": "text/x-python",
   "name": "python",
   "nbconvert_exporter": "python",
   "pygments_lexer": "ipython3",
   "version": "3.6.5"
  }
 },
 "nbformat": 4,
 "nbformat_minor": 2
}
