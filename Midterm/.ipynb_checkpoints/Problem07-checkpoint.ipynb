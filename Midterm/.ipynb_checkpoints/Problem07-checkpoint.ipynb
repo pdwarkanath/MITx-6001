{
 "cells": [
  {
   "cell_type": "code",
   "execution_count": 38,
   "metadata": {},
   "outputs": [],
   "source": [
    "def dict_interdiff(d1, d2):\n",
    "    '''\n",
    "    d1, d2: dicts whose keys and values are integers\n",
    "    Returns a tuple of dictionaries according to the instructions above\n",
    "    '''\n",
    "    # Your code here\n",
    "    inter_keys = set(d1.keys()).intersection(d2.keys())\n",
    "    f_inter = {}\n",
    "    for i in inter_keys:\n",
    "        f_inter[i] = f(d1[i], d2[i])\n",
    "    \n",
    "    f_diff = {}\n",
    "    for i in d1.keys():\n",
    "        if i not in inter_keys:\n",
    "            f_diff[i] = d1[i]\n",
    "    for j in d2.keys():\n",
    "        if j not in inter_keys:\n",
    "            f_diff[j] = d2[j]\n",
    "    \n",
    "    return f_inter, f_diff"
   ]
  },
  {
   "cell_type": "code",
   "execution_count": 39,
   "metadata": {},
   "outputs": [],
   "source": [
    "d1 = {1:30, 2:20, 3:30, 5:80}\n",
    "d2 = {1:40, 2:50, 3:60, 4:70, 6:90}"
   ]
  },
  {
   "cell_type": "code",
   "execution_count": 40,
   "metadata": {},
   "outputs": [
    {
     "data": {
      "text/plain": [
       "({1: False, 2: False, 3: False}, {5: 80, 4: 70, 6: 90})"
      ]
     },
     "execution_count": 40,
     "metadata": {},
     "output_type": "execute_result"
    }
   ],
   "source": [
    "def f(a, b):\n",
    "    return a > b\n",
    "dict_interdiff(d1, d2)"
   ]
  }
 ],
 "metadata": {
  "kernelspec": {
   "display_name": "Python 3",
   "language": "python",
   "name": "python3"
  },
  "language_info": {
   "codemirror_mode": {
    "name": "ipython",
    "version": 3
   },
   "file_extension": ".py",
   "mimetype": "text/x-python",
   "name": "python",
   "nbconvert_exporter": "python",
   "pygments_lexer": "ipython3",
   "version": "3.6.5"
  }
 },
 "nbformat": 4,
 "nbformat_minor": 2
}
