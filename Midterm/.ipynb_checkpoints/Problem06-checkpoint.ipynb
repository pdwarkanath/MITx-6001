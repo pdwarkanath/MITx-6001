{
 "cells": [
  {
   "cell_type": "code",
   "execution_count": 18,
   "metadata": {},
   "outputs": [],
   "source": [
    "def deep_reverse(L):\n",
    "    \"\"\" assumes L is a list of lists whose elements are ints\n",
    "    Mutates L such that it reverses its elements and also \n",
    "    reverses the order of the int elements in every element of L. \n",
    "    It does not return anything.\n",
    "    \"\"\"\n",
    "    # Your code here\n",
    "    for idx, elem in enumerate(L):\n",
    "        L[idx] = elem[-1::-1]\n",
    "    L[:] = L[-1::-1]\n",
    "    return L"
   ]
  },
  {
   "cell_type": "code",
   "execution_count": 20,
   "metadata": {},
   "outputs": [],
   "source": [
    "L = [[1, 2], [3, 4], [5, 6, 7]]"
   ]
  },
  {
   "cell_type": "code",
   "execution_count": 21,
   "metadata": {},
   "outputs": [
    {
     "data": {
      "text/plain": [
       "[[7, 6, 5], [4, 3], [2, 1]]"
      ]
     },
     "execution_count": 21,
     "metadata": {},
     "output_type": "execute_result"
    }
   ],
   "source": [
    "deep_reverse(L)"
   ]
  },
  {
   "cell_type": "code",
   "execution_count": null,
   "metadata": {},
   "outputs": [],
   "source": []
  }
 ],
 "metadata": {
  "kernelspec": {
   "display_name": "Python 3",
   "language": "python",
   "name": "python3"
  },
  "language_info": {
   "codemirror_mode": {
    "name": "ipython",
    "version": 3
   },
   "file_extension": ".py",
   "mimetype": "text/x-python",
   "name": "python",
   "nbconvert_exporter": "python",
   "pygments_lexer": "ipython3",
   "version": "3.6.5"
  }
 },
 "nbformat": 4,
 "nbformat_minor": 2
}
