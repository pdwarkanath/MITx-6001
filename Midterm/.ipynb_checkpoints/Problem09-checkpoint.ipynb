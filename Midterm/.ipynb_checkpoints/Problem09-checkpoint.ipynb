{
 "cells": [
  {
   "cell_type": "markdown",
   "metadata": {},
   "source": [
    "# Problem 9\n",
    "\n",
    "Write a function to flatten a list. The list contains other lists, strings, or ints. For example, ```[[1,'a',['cat'],2],[[[3]],'dog'],4,5]``` is flattened into ```[1,'a','cat',2,3,'dog',4,5]```\n",
    "\n",
    "```\n",
    "def flatten(aList):\n",
    "    ''' \n",
    "    aList: a list \n",
    "    Returns a copy of aList, which is a flattened version of aList \n",
    "    '''\n",
    "```\n",
    "**Hint: How to think about this problem**\n",
    "\n",
    "Recursion is extremely useful for this question. You will have to try to flatten every element of the original list. To check whether an element can be flattened, the element must be another object of type list."
   ]
  },
  {
   "cell_type": "code",
   "execution_count": 1,
   "metadata": {},
   "outputs": [],
   "source": [
    "def flatten(aList):\n",
    "    if aList == []:\n",
    "        return aList\n",
    "    if isinstance(aList[0], list):\n",
    "        return flatten(aList[0]) + flatten(aList[1:])\n",
    "    return aList[:1] + flatten(aList[1:])"
   ]
  },
  {
   "cell_type": "code",
   "execution_count": 2,
   "metadata": {},
   "outputs": [],
   "source": [
    "aList = [[1,'a',['cat'],2],[[[3]],'dog'],4,5]"
   ]
  },
  {
   "cell_type": "code",
   "execution_count": 3,
   "metadata": {},
   "outputs": [
    {
     "data": {
      "text/plain": [
       "[1, 'a', 'cat', 2, 3, 'dog', 4, 5]"
      ]
     },
     "execution_count": 3,
     "metadata": {},
     "output_type": "execute_result"
    }
   ],
   "source": [
    "flatten(aList)"
   ]
  }
 ],
 "metadata": {
  "kernelspec": {
   "display_name": "Python 3",
   "language": "python",
   "name": "python3"
  },
  "language_info": {
   "codemirror_mode": {
    "name": "ipython",
    "version": 3
   },
   "file_extension": ".py",
   "mimetype": "text/x-python",
   "name": "python",
   "nbconvert_exporter": "python",
   "pygments_lexer": "ipython3",
   "version": "3.6.5"
  }
 },
 "nbformat": 4,
 "nbformat_minor": 2
}
