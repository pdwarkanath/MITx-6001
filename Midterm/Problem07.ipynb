{
 "cells": [
  {
   "cell_type": "markdown",
   "metadata": {},
   "source": [
    "# Problem 7\n",
    "\n",
    "Assume you are given two dictionaries ```d1``` and ```d2```, each with integer keys and integer values. You are also given a function ```f```, that takes in two integers, performs an unknown operation on them, and returns a value.\n",
    "\n",
    "Write a function called ```dict_interdiff``` that takes in two dictionaries (```d1``` and ```d2```). The function will return a tuple of two dictionaries: a dictionary of the intersect of ```d1``` and ```d2``` and a dictionary of the difference of ```d1``` and ```d2```, calculated as follows:\n",
    "\n",
    "* **intersect:** The keys to the intersect dictionary are keys that are common in both ```d1``` and ```d2```. To get the values of the intersect dictionary, look at the common keys in ```d1``` and ```d2``` and apply the function ```f``` to these keys' values -- the value of the common key in ```d1``` is the first parameter to the function and the value of the common key in ```d2``` is the second parameter to the function. Do not implement ```f``` inside your ```dict_interdiff``` code -- assume it is defined outside.\n",
    "* **difference:** a key-value pair in the difference dictionary is (a) every key-value pair in ```d1``` whose key appears only in ```d1``` and not in ```d2``` or (b) every key-value pair in ```d2``` whose key appears only in ```d2``` and not in ```d1```.\n",
    "\n",
    "Here are two examples:\n",
    "\n",
    "* If ```f(a, b)``` returns ```a + b```\n",
    "```\n",
    "d1 = {1:30, 2:20, 3:30, 5:80}\n",
    "d2 = {1:40, 2:50, 3:60, 4:70, 6:90}\n",
    "```\n",
    "then ```dict_interdiff(d1, d2)``` returns ```({1: 70, 2: 70, 3: 90}, {4: 70, 5: 80, 6: 90})```\n",
    "* If ```f(a, b)``` returns ```a > b```\n",
    "```\n",
    "d1 = {1:30, 2:20, 3:30}\n",
    "d2 = {1:40, 2:50, 3:60}\n",
    "```\n",
    "then ```dict_interdiff(d1, d2)``` returns ```({1: False, 2: False, 3: False}, {})```\n",
    "\n",
    "```\n",
    "def dict_interdiff(d1, d2):\n",
    "    '''\n",
    "    d1, d2: dicts whose keys and values are integers\n",
    "    Returns a tuple of dictionaries according to the instructions above\n",
    "    '''\n",
    "    # Your code here\n",
    "```\n",
    "\n",
    "Paste your entire function, including the definition, in the box below. The function f will be automatically added to your code, do not paste it in the box. Do not leave any debugging print statements. Note that we ask you to write a function only -- you cannot rely on any variables defined outside your function for your code to work correctly."
   ]
  },
  {
   "cell_type": "code",
   "execution_count": 4,
   "metadata": {},
   "outputs": [],
   "source": [
    "def dict_interdiff(d1, d2):\n",
    "    '''\n",
    "    d1, d2: dicts whose keys and values are integers\n",
    "    Returns a tuple of dictionaries according to the instructions above\n",
    "    '''\n",
    "    # Your code here\n",
    "    inter_keys = set(d1.keys()).intersection(d2.keys())\n",
    "    f_inter = {}\n",
    "    for i in inter_keys:\n",
    "        f_inter[i] = f(d1[i], d2[i])\n",
    "    \n",
    "    f_diff = {}\n",
    "    for i in d1.keys():\n",
    "        if i not in inter_keys:\n",
    "            f_diff[i] = d1[i]\n",
    "    for j in d2.keys():\n",
    "        if j not in inter_keys:\n",
    "            f_diff[j] = d2[j]\n",
    "    \n",
    "    return f_inter, f_diff"
   ]
  },
  {
   "cell_type": "code",
   "execution_count": 5,
   "metadata": {},
   "outputs": [],
   "source": [
    "d1 = {1:30, 2:20, 3:30, 5:80}\n",
    "d2 = {1:40, 2:50, 3:60, 4:70, 6:90}"
   ]
  },
  {
   "cell_type": "code",
   "execution_count": 6,
   "metadata": {},
   "outputs": [
    {
     "data": {
      "text/plain": [
       "({1: False, 2: False, 3: False}, {5: 80, 4: 70, 6: 90})"
      ]
     },
     "execution_count": 6,
     "metadata": {},
     "output_type": "execute_result"
    }
   ],
   "source": [
    "def f(a, b):\n",
    "    return a > b\n",
    "dict_interdiff(d1, d2)"
   ]
  }
 ],
 "metadata": {
  "kernelspec": {
   "display_name": "Python 3",
   "language": "python",
   "name": "python3"
  },
  "language_info": {
   "codemirror_mode": {
    "name": "ipython",
    "version": 3
   },
   "file_extension": ".py",
   "mimetype": "text/x-python",
   "name": "python",
   "nbconvert_exporter": "python",
   "pygments_lexer": "ipython3",
   "version": "3.6.5"
  }
 },
 "nbformat": 4,
 "nbformat_minor": 2
}
